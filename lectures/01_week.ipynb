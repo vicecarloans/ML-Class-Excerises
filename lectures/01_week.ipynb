{
 "cells": [
  {
   "cell_type": "markdown",
   "metadata": {
    "slideshow": {
     "slide_type": "skip"
    }
   },
   "source": [
    "skip this cell"
   ]
  },
  {
   "cell_type": "markdown",
   "metadata": {
    "slideshow": {
     "slide_type": "slide"
    }
   },
   "source": [
    "## COMP 3122 - Artificial Intelligence with Python\n",
    "__Week 1__\n",
    " \n",
    "## [github.com/kamrik/ML1](https://github.com/kamrik/ML1)"
   ]
  },
  {
   "cell_type": "markdown",
   "metadata": {
    "slideshow": {
     "slide_type": "slide"
    }
   },
   "source": [
    "# https://georgebrowntech.slack.com/signup\n",
    "![Slack logo](https://cdn-images-1.medium.com/max/1152/1*XAfCrBTr3MnHhv4mh70y2Q.png)"
   ]
  },
  {
   "cell_type": "markdown",
   "metadata": {
    "slideshow": {
     "slide_type": "slide"
    }
   },
   "source": [
    "# Administrative things\n",
    " - Slack workspace\n",
    " - Office hours - right before this lecture (Thu 13:00-13:50)\n",
    " - Assignments - there will be some, auto-graded by a script.\n",
    " - Mid-term - week before the intersession\n",
    " - Recommended: attend (or volunteer) at [PyCon Canada](https://2018.pycon.ca/) on November 10-11\n"
   ]
  },
  {
   "cell_type": "markdown",
   "metadata": {
    "slideshow": {
     "slide_type": "slide"
    }
   },
   "source": [
    "## What is “Intelligence”?\n",
    "\n"
   ]
  },
  {
   "cell_type": "markdown",
   "metadata": {
    "slideshow": {
     "slide_type": "fragment"
    }
   },
   "source": [
    "* The ability to acquire and apply knowledge and skills.\n",
    "  - [According to Oxford dictionary](https://en.oxforddictionaries.com/definition/intelligence) "
   ]
  },
  {
   "cell_type": "markdown",
   "metadata": {
    "slideshow": {
     "slide_type": "fragment"
    }
   },
   "source": [
    "* Acquire how?"
   ]
  },
  {
   "cell_type": "markdown",
   "metadata": {
    "slideshow": {
     "slide_type": "fragment"
    }
   },
   "source": [
    " - How does a 2 year old baby learn?"
   ]
  },
  {
   "cell_type": "markdown",
   "metadata": {
    "slideshow": {
     "slide_type": "slide"
    }
   },
   "source": [
    "## AI vs. Machine Learning vs. Data science\n",
    "\n",
    "Further reading to further confuse you:\n",
    " - [Are you using the term ‘AI’ incorrectly?](https://becominghuman.ai/are-you-using-the-term-ai-incorrectly-911ac23ab4f5)\n",
    "by *Cassie Kozyrkov*\n",
    " - [Ways to think about machine learning](https://www.ben-evans.com/benedictevans/2018/06/22/ways-to-think-about-machine-learning-8nefy) by _[Benedict Evans](https://www.ben-evans.com/)_\n"
   ]
  },
  {
   "cell_type": "markdown",
   "metadata": {
    "slideshow": {
     "slide_type": "slide"
    }
   },
   "source": [
    "## Brief history of AI\n",
    " \n"
   ]
  },
  {
   "cell_type": "markdown",
   "metadata": {
    "slideshow": {
     "slide_type": "slide"
    }
   },
   "source": [
    "## Ancient times - Myth of Talos\n",
    "![Talon](https://upload.wikimedia.org/wikipedia/commons/thumb/c/c8/Didrachm_Phaistos_obverse_CdM.jpg/480px-Didrachm_Phaistos_obverse_CdM.jpg)\n",
    "Silver coin from Crete, circa 300 BC - https://en.wikipedia.org/wiki/Talos\n"
   ]
  },
  {
   "cell_type": "markdown",
   "metadata": {
    "slideshow": {
     "slide_type": "slide"
    }
   },
   "source": [
    "## 1950s - Turing Test\n",
    "![xkcd: Turing Text](https://imgs.xkcd.com/comics/turing_test.png)\n",
    "Source: https://xkcd.com/329/"
   ]
  },
  {
   "cell_type": "markdown",
   "metadata": {
    "slideshow": {
     "slide_type": "slide"
    }
   },
   "source": [
    "## 1950s - Azimov's Three Laws of Robotics\n",
    "![I Robot cover](https://upload.wikimedia.org/wikipedia/en/8/8e/I_Robot_-_Runaround.jpg)\n",
    "https://en.wikipedia.org/wiki/Three_Laws_of_Robotics"
   ]
  },
  {
   "cell_type": "markdown",
   "metadata": {
    "slideshow": {
     "slide_type": "slide"
    }
   },
   "source": [
    "## Dartmouth Conference 1956: the birth of AI\n",
    " - The Term Artificial Intelligence discussed and accepted\n",
    " - The proposal for the conference included this assertion: \"every aspect of learning or any other feature of intelligence can be so precisely described that a machine can be made to simulate it\""
   ]
  },
  {
   "cell_type": "markdown",
   "metadata": {
    "slideshow": {
     "slide_type": "slide"
    }
   },
   "source": [
    "## The AI winters - late 70s and 80s\n",
    " - Boom and bust cycles of extreme enthusiasm followed by disappointment"
   ]
  },
  {
   "cell_type": "markdown",
   "metadata": {
    "slideshow": {
     "slide_type": "slide"
    }
   },
   "source": [
    "## Modern times - deep learning"
   ]
  },
  {
   "cell_type": "markdown",
   "metadata": {
    "slideshow": {
     "slide_type": "slide"
    }
   },
   "source": [
    "## Movies to watch\n",
    " - [Hello World Canada: The Rise of AI](https://www.bloomberg.com/news/videos/2018-05-23/hello-world-canada-the-rise-of-ai-video) (hightly motivating 50 minute documentary)\n",
    " - [The Imitation Game (2014)](https://www.imdb.com/title/tt2084970/) (about Alan Turing)\n",
    " - [2001: A Space Odyssey (1968)](https://www.imdb.com/title/tt0062622/)"
   ]
  },
  {
   "cell_type": "markdown",
   "metadata": {
    "slideshow": {
     "slide_type": "slide"
    }
   },
   "source": [
    "## Why study machine learning?"
   ]
  },
  {
   "cell_type": "markdown",
   "metadata": {
    "slideshow": {
     "slide_type": "slide"
    }
   },
   "source": [
    "## Common industrial applications\n",
    " - Recommendation engines (Netflix, Amazon)\n",
    " - Ad targeting (Googlbe, Faceook, Cambrdge Analytica)\n",
    " - Spam filtering\n",
    " - Credit card fraud detection\n",
    " - Pattern recognition in sensor data (FitBit)"
   ]
  },
  {
   "cell_type": "markdown",
   "metadata": {
    "slideshow": {
     "slide_type": "slide"
    }
   },
   "source": [
    "### To understand how humans learn\n",
    "__“What I cannot create, I do not understand”__ - Richard Feynman\n",
    "![Feynman](https://upload.wikimedia.org/wikipedia/commons/1/1a/RichardFeynman-PaineMansionWoods1984_copyrightTamikoThiel_bw.jpg)\n",
    "[about this quote on Quora](https://www.quora.com/What-did-Richard-Feynman-mean-when-he-said-What-I-cannot-create-I-do-not-understand)"
   ]
  },
  {
   "cell_type": "markdown",
   "metadata": {
    "slideshow": {
     "slide_type": "slide"
    }
   },
   "source": [
    "## Course book\n",
    "![book_cover](https://jakevdp.github.io/PythonDataScienceHandbook/figures/PDSH-cover.png)"
   ]
  },
  {
   "cell_type": "markdown",
   "metadata": {
    "slideshow": {
     "slide_type": "slide"
    }
   },
   "source": [
    "## Course book\n",
    "\n",
    "__Python Data Science Handbook__ by Jake VanderPlas\n",
    "* Read online: https://jakevdp.github.io/PythonDataScienceHandbook/\n",
    "* GitHub: https://github.com/jakevdp/PythonDataScienceHandbook\n",
    "* [On Amazon.ca](https://www.amazon.ca/Python-Data-Science-Handbook-Essential/dp/1491912057)"
   ]
  },
  {
   "cell_type": "markdown",
   "metadata": {
    "slideshow": {
     "slide_type": "slide"
    }
   },
   "source": [
    "## Book structure - Python libraries\n",
    " - IPython & Jupyter\n",
    " - NumPy\n",
    " - Matplotlib\n",
    " - Pandas\n",
    " - Scikit-learn\n",
    " \n",
    " It's a handbook and we will be taking a [spiral approach](https://en.wikipedia.org/wiki/Spiral_approach)\n"
   ]
  },
  {
   "cell_type": "markdown",
   "metadata": {
    "slideshow": {
     "slide_type": "slide"
    }
   },
   "source": [
    "## Book sections for this week\n",
    "* #1. IPython: Beyond Normal Python\n",
    "* #2. Introduction to NumPy"
   ]
  },
  {
   "cell_type": "markdown",
   "metadata": {
    "slideshow": {
     "slide_type": "slide"
    }
   },
   "source": [
    "## What this course is NOT about\n",
    " - Big data\n",
    " - General purpose AI\n",
    " - Neural networks\n",
    " - How AI is about to solve all problems or kill humanity"
   ]
  },
  {
   "cell_type": "markdown",
   "metadata": {
    "slideshow": {
     "slide_type": "slide"
    }
   },
   "source": [
    "## Course outline\n",
    "https://github.com/kamrik/ML1/blob/master/Outline.md"
   ]
  },
  {
   "cell_type": "markdown",
   "metadata": {
    "slideshow": {
     "slide_type": "slide"
    }
   },
   "source": [
    "# slido.com/COMP3122"
   ]
  },
  {
   "cell_type": "markdown",
   "metadata": {
    "slideshow": {
     "slide_type": "slide"
    }
   },
   "source": [
    "![Anaconda logo](https://upload.wikimedia.org/wikipedia/en/c/cd/Anaconda_Logo.png)\n",
    " - I recommend installing Anaconda 3 (full version, not miniconda) on your personal computers."
   ]
  },
  {
   "cell_type": "markdown",
   "metadata": {
    "slideshow": {
     "slide_type": "slide"
    }
   },
   "source": [
    "## IPython and Jupyter\n",
    "![IPython](https://cdn-images-1.medium.com/max/1600/1*T_nQFZEcSVoZtiCf20B2rA.png)"
   ]
  },
  {
   "cell_type": "markdown",
   "metadata": {
    "slideshow": {
     "slide_type": "slide"
    }
   },
   "source": [
    "## IPython and Jupyter\n",
    " - __IPython:__ improved & interactive Python console / terminal\n",
    " - __Jupyter Notebook:__ Edit and run your code in the browser and mix it with text\n",
    " - We will be using both\n",
    " - [Book](https://jakevdp.github.io/PythonDataScienceHandbook/) chapter 1"
   ]
  },
  {
   "cell_type": "markdown",
   "metadata": {
    "slideshow": {
     "slide_type": "slide"
    }
   },
   "source": [
    "## Jupyter - mix code & text\n",
    "Tale a look at this notebook - [NYC Taxi data visualisaion](https://anaconda.org/jbednar/nyc_taxi/notebook)"
   ]
  },
  {
   "cell_type": "markdown",
   "metadata": {
    "slideshow": {
     "slide_type": "slide"
    }
   },
   "source": [
    "## Code cells - with output"
   ]
  },
  {
   "cell_type": "code",
   "execution_count": 2,
   "metadata": {
    "collapsed": false
   },
   "outputs": [
    {
     "data": {
      "text/plain": [
       "21"
      ]
     },
     "execution_count": 2,
     "metadata": {},
     "output_type": "execute_result"
    }
   ],
   "source": [
    "#code cell\n",
    "x = 3\n",
    "x * 7"
   ]
  },
  {
   "cell_type": "code",
   "execution_count": 3,
   "metadata": {
    "collapsed": false
   },
   "outputs": [
    {
     "data": {
      "text/plain": [
       "[1, 2, 5, 7, 'some OTHER text']"
      ]
     },
     "execution_count": 3,
     "metadata": {},
     "output_type": "execute_result"
    }
   ],
   "source": [
    "y = [1, 2, 5, 7, \"some OTHER text\"]\n",
    "y"
   ]
  },
  {
   "cell_type": "markdown",
   "metadata": {
    "slideshow": {
     "slide_type": "slide"
    }
   },
   "source": [
    "## Code with more output"
   ]
  },
  {
   "cell_type": "code",
   "execution_count": 5,
   "metadata": {
    "collapsed": false
   },
   "outputs": [
    {
     "data": {
      "text/plain": [
       "[<matplotlib.lines.Line2D at 0x112f1fe1d30>]"
      ]
     },
     "execution_count": 5,
     "metadata": {},
     "output_type": "execute_result"
    },
    {
     "data": {
      "image/png": "[encoded data removed]",
      "text/plain": [
       "<Figure size 432x288 with 1 Axes>"
      ]
     },
     "metadata": {},
     "output_type": "display_data"
    }
   ],
   "source": [
    "# Ignore the code for now, see the picture \n",
    "import matplotlib.pyplot as plt\n",
    "%matplotlib inline\n",
    "plt.plot(range(15), '+g')"
   ]
  },
  {
   "cell_type": "markdown",
   "metadata": {
    "slideshow": {
     "slide_type": "slide"
    }
   },
   "source": [
    "## Text cells - Markdown demo"
   ]
  },
  {
   "cell_type": "markdown",
   "metadata": {},
   "source": [
    "Text cell with:\n",
    " - Text __formatting__ \n",
    " - [links](http://nowhere.to)\n",
    " - and other goodies"
   ]
  },
  {
   "cell_type": "markdown",
   "metadata": {
    "slideshow": {
     "slide_type": "slide"
    }
   },
   "source": [
    "## Markdown\n",
    "![MD](https://upload.wikimedia.org/wikipedia/commons/4/48/Markdown-mark.svg)\n",
    "\n",
    "- A lightweight [_markup language_](https://en.wikipedia.org/wiki/Markup_language)\n",
    "- Also used on GitHub - README.md are Mardkown files\n",
    "- [Cheatsheet](https://github.com/adam-p/markdown-here/wiki/Markdown-Cheatsheet)\n",
    "- https://en.wikipedia.org/wiki/Markdown"
   ]
  },
  {
   "cell_type": "markdown",
   "metadata": {
    "slideshow": {
     "slide_type": "slide"
    }
   },
   "source": [
    "## IPython & Jypyter features\n",
    " - Tab completion\n",
    " - History (arrow up in console)\n",
    " - ? and ??\n",
    " - Wildcards with ?  e.g: “*Warning?”\n",
    " - Magic functions: %run and %paste (there are more, use %lsmagic)\n",
    " - You can use “?” after magic functions \n"
   ]
  },
  {
   "cell_type": "markdown",
   "metadata": {
    "slideshow": {
     "slide_type": "slide"
    }
   },
   "source": [
    "## Magic commands"
   ]
  },
  {
   "cell_type": "code",
   "execution_count": 6,
   "metadata": {
    "collapsed": false
   },
   "outputs": [
    {
     "name": "stdout",
     "output_type": "stream",
     "text": [
      "Hello, COMP 3122 students!\n"
     ]
    },
    {
     "data": {
      "text/plain": [
       "<Figure size 432x288 with 0 Axes>"
      ]
     },
     "metadata": {},
     "output_type": "display_data"
    }
   ],
   "source": [
    "%run ./hello.py"
   ]
  },
  {
   "cell_type": "code",
   "execution_count": 9,
   "metadata": {
    "collapsed": true
   },
   "outputs": [],
   "source": [
    "name?"
   ]
  },
  {
   "cell_type": "markdown",
   "metadata": {
    "slideshow": {
     "slide_type": "slide"
    }
   },
   "source": [
    "## Plotting data - matplotlib\n",
    "TBD (in next week's slides for now)"
   ]
  },
  {
   "cell_type": "markdown",
   "metadata": {
    "slideshow": {
     "slide_type": "slide"
    }
   },
   "source": [
    "## Notebooks in the cloud\n",
    " - Full Interactive mode \n",
    "   - [Microsoft Azure Notebooks](https://notebooks.azure.com/)\n",
    "   - Google collab\n",
    "   - https://mybinder.org/\n",
    "   - [Kaggle](https://www.kaggle.com/)\n",
    " - View only\n",
    "   - http://nbviewer.jupyter.org/\n",
    "   - GitHub\n",
    " - But also have it installed on your computer"
   ]
  },
  {
   "cell_type": "markdown",
   "metadata": {
    "collapsed": true,
    "slideshow": {
     "slide_type": "skip"
    }
   },
   "source": [
    "skip this cell"
   ]
  }
 ],
 "metadata": {
  "celltoolbar": "Slideshow",
  "kernelspec": {
   "display_name": "Python 2",
   "language": "python",
   "name": "python2"
  },
  "language_info": {
   "codemirror_mode": {
    "name": "ipython",
    "version": 2
   },
   "file_extension": ".py",
   "mimetype": "text/x-python",
   "name": "python",
   "nbconvert_exporter": "python",
   "pygments_lexer": "ipython2",
   "version": "2.7.14"
  }
 },
 "nbformat": 4,
 "nbformat_minor": 2
}
