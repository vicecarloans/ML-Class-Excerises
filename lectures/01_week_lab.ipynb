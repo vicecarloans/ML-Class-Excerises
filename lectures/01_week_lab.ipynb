{
 "cells": [
  {
   "cell_type": "markdown",
   "metadata": {
    "slideshow": {
     "slide_type": "skip"
    }
   },
   "source": [
    "Skip this cell\n",
    "\n",
    "setup:\n",
    " - git reset + pull the repo\n",
    " - cd to ML1/lectures (where hello.py is)\n",
    " - open hello.py in editor - zoom\n",
    " - Open console - set font size for projector\n",
    " - log into checkio.org, copy a couple of exercises, or from [here](https://github.com/oduvan/checkio-mission-first-word/blob/master/editor/initial_code/python_3)\n",
    " - Check VSCode type hints highlighting - check Python plugin version\n",
    " "
   ]
  },
  {
   "cell_type": "markdown",
   "metadata": {
    "slideshow": {
     "slide_type": "slide"
    }
   },
   "source": [
    "## COMP 3122 - Artificial Intelligence with Python\n",
    "__Week 1 - lab__\n",
    "\n",
    "Follow along at [github.com/kamrik/ML1](https://github.com/kamrik/ML1)"
   ]
  },
  {
   "cell_type": "markdown",
   "metadata": {
    "slideshow": {
     "slide_type": "slide"
    }
   },
   "source": [
    "## Introduction\n",
    " - Brief version - longer on Thursday"
   ]
  },
  {
   "cell_type": "markdown",
   "metadata": {
    "slideshow": {
     "slide_type": "slide"
    }
   },
   "source": [
    "# https://georgebrowntech.slack.com/signup\n",
    "![Slack logo](https://cdn-images-1.medium.com/max/1152/1*XAfCrBTr3MnHhv4mh70y2Q.png)"
   ]
  },
  {
   "cell_type": "markdown",
   "metadata": {
    "slideshow": {
     "slide_type": "slide"
    }
   },
   "source": [
    "## Today\n",
    " - Brief introduction - longer version later this week\n",
    " - IPython interpreter\n",
    " - Recap of Python\n",
    "\n"
   ]
  },
  {
   "cell_type": "markdown",
   "metadata": {
    "slideshow": {
     "slide_type": "slide"
    }
   },
   "source": [
    "## Which Python?\n",
    "![Anaconda logo](https://upload.wikimedia.org/wikipedia/en/c/cd/Anaconda_Logo.png)\n",
    " - I recommend to install Anaconda 3 (full version, not miniconda) on your personal computers."
   ]
  },
  {
   "cell_type": "markdown",
   "metadata": {
    "collapsed": true,
    "slideshow": {
     "slide_type": "slide"
    }
   },
   "source": [
    "## Recommended text editor  - VSCode\n",
    "\n",
    "![VSCode](https://static1.squarespace.com/static/592e86ee9de4bb6e73d8c154/t/5a3e4ca653450ae78e8d4ed2/1514033170109/32078472-5053adea-baa7-11e7-9034-519002f12ac7.png)\n",
    "\n"
   ]
  },
  {
   "cell_type": "markdown",
   "metadata": {
    "slideshow": {
     "slide_type": "slide"
    }
   },
   "source": [
    "## IPython\n",
    "![IPython](https://cdn-images-1.medium.com/max/1600/1*T_nQFZEcSVoZtiCf20B2rA.png)"
   ]
  },
  {
   "cell_type": "markdown",
   "metadata": {
    "slideshow": {
     "slide_type": "slide"
    }
   },
   "source": [
    "## IPython demo"
   ]
  },
  {
   "cell_type": "markdown",
   "metadata": {
    "slideshow": {
     "slide_type": "slide"
    }
   },
   "source": [
    "\n",
    "## IPython\n",
    " - Tab completion\n",
    " - History (arrow up in console)\n",
    " - ? and ?? for help\n",
    " - Magic functions: %run (there are more, use %lsmagic)\n",
    " - You can use “?” after magic functions \n"
   ]
  },
  {
   "cell_type": "markdown",
   "metadata": {
    "slideshow": {
     "slide_type": "slide"
    }
   },
   "source": [
    "## Python refresher\n",
    " - Sign up on https://checkio.org/\n",
    "    - Solve at least 3 problems from Elementary or Home bases\n",
    " - Use this Python cheatseet - http://learnxinyminutes.com/docs/python3/\n"
   ]
  },
  {
   "cell_type": "markdown",
   "metadata": {
    "slideshow": {
     "slide_type": "slide"
    }
   },
   "source": [
    "## CheckIO demo"
   ]
  },
  {
   "cell_type": "markdown",
   "metadata": {
    "slideshow": {
     "slide_type": "slide"
    }
   },
   "source": [
    "## Optional extra exercises\n",
    "[LeetCode](https://leetcode.com) is often used to practice for interviews. Start with those questions:\n",
    " - #771. [Jewels and Stones](https://leetcode.com/problems/jewels-and-stones/description/)\n",
    " - #461. [Hamming Distance](https://leetcode.com/problems/hamming-distance/description/)\n",
    " - #500. [Keyboard Row](https://leetcode.com/problems/keyboard-row/description/)\n",
    "\n",
    "If you are into video games, try https://www.codingame.com"
   ]
  },
  {
   "cell_type": "markdown",
   "metadata": {
    "slideshow": {
     "slide_type": "slide"
    }
   },
   "source": [
    "## Lab instructions\n",
    " - Use this Python cheatseet - http://learnxinyminutes.com/docs/python3/\n",
    " - Sign up at https://checkio.org/, start from \"Elementary\" problems\n",
    " - Create a directory for your work\n",
    " - Copy & paste the code from CheckIO to a text editor (VSCode) and save as .py file\n",
    " - Open \"Anaconda Prompt\", CD to your directory and run \"ipython\"\n",
    " - Use %run yourfile.py to run and test the code\n",
    " - Once all assertions pass, copy the code back to the text box on checkio.org and click "
   ]
  }
 ],
 "metadata": {
  "celltoolbar": "Slideshow",
  "kernelspec": {
   "display_name": "Python 3",
   "language": "python",
   "name": "python3"
  },
  "language_info": {
   "codemirror_mode": {
    "name": "ipython",
    "version": 3
   },
   "file_extension": ".py",
   "mimetype": "text/x-python",
   "name": "python",
   "nbconvert_exporter": "python",
   "pygments_lexer": "ipython3",
   "version": "3.6.6"
  }
 },
 "nbformat": 4,
 "nbformat_minor": 2
}
